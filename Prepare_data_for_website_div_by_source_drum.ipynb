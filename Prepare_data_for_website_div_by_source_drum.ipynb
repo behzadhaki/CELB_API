{
 "cells": [
  {
   "cell_type": "markdown",
   "id": "499561566c34baab",
   "metadata": {
    "collapsed": false,
    "jupyter": {
     "outputs_hidden": false
    },
    "pycharm": {
     "name": "#%% md\n"
    }
   },
   "source": [
    "# Extract the DrumMidis.zip and SavedSession**.zip files"
   ]
  },
  {
   "cell_type": "code",
   "execution_count": 1,
   "id": "52dbfe00-f107-42a7-b4c1-b03cd7a850a4",
   "metadata": {
    "ExecuteTime": {
     "end_time": "2024-04-16T19:24:40.727996Z",
     "start_time": "2024-04-16T19:24:38.479098Z"
    },
    "collapsed": false,
    "jupyter": {
     "outputs_hidden": false
    },
    "pycharm": {
     "is_executing": true,
     "name": "#%%\n"
    }
   },
   "outputs": [
    {
     "name": "stdout",
     "output_type": "stream",
     "text": [
      "1\n"
     ]
    }
   ],
   "source": [
    "print(1)"
   ]
  },
  {
   "cell_type": "code",
   "execution_count": 2,
   "id": "174a0c21-af54-40dc-bd62-b53c4aafc4fa",
   "metadata": {
    "ExecuteTime": {
     "end_time": "2024-04-16T19:24:40.727996Z",
     "start_time": "2024-04-16T19:24:38.479098Z"
    },
    "collapsed": false,
    "jupyter": {
     "outputs_hidden": false
    },
    "pycharm": {
     "is_executing": true,
     "name": "#%%\n"
    }
   },
   "outputs": [],
   "source": [
    "import zipfile\n",
    "import os\n",
    "import bz2\n",
    "from umap import UMAP\n",
    "\n",
    "from bokeh.palettes import inferno, Category20b\n",
    "from bokeh.core.enums import MarkerType\n",
    "from bokeh.plotting import figure, show, save\n",
    "from bokeh.io import output_notebook, reset_output\n",
    "# output_notebook()\n",
    "\n",
    "\n",
    "def extract_zip(zip_file, extract_dir):\n",
    "    with zipfile.ZipFile(zip_file, 'r') as zip_ref:\n",
    "        zip_ref.extractall(extract_dir)\n",
    "\n",
    "def extract_bz2(bz2_file, extract_dir):\n",
    "    \"\"\"\n",
    "    Extract a BZ2 compressed file.\n",
    "    \n",
    "    :param bz2_file: Path to the BZ2 compressed file.\n",
    "    :param extract_dir: Directory where the decompressed contents will be saved.\n",
    "    \"\"\"\n",
    "    # Ensure the extraction directory exists\n",
    "    os.makedirs(extract_dir, exist_ok=True)\n",
    "\n",
    "    # Open the BZ2 file for reading\n",
    "    with bz2.open(bz2_file, 'rb') as file_in:\n",
    "        # Decompress the data\n",
    "        data = file_in.read()\n",
    "        \n",
    "        # Write the decompressed data to the output file\n",
    "        with open(\"temp.zip\", 'wb') as file_out:\n",
    "            file_out.write(data)\n",
    "        \n",
    "        extract_zip(\"temp.zip\", extract_dir)\n",
    "        \n",
    "        os.remove(\"temp.zip\")\n",
    "    \n",
    "if not os.path.exists('DrumMidis'):\n",
    "    extract_zip('DrumMidis.zip', 'DrumMidis')\n",
    "    \n",
    "if not os.path.exists('SavedSessions'):\n",
    "    extract_bz2('SavedSessions.bz2', 'SavedSessions')"
   ]
  },
  {
   "cell_type": "markdown",
   "id": "4c74752cb415f93b",
   "metadata": {
    "collapsed": false,
    "jupyter": {
     "outputs_hidden": false
    },
    "pycharm": {
     "name": "#%% md\n"
    }
   },
   "source": [
    "# Load Bongosero Collection\n",
    "\n",
    "\n",
    "```\n",
    "collection \n",
    "|\n",
    "|------------ User1\n",
    "|            |------------ Attempts\n",
    "|            |            |------------ Attempt1\n",
    "|            |            |------------ Attempt2\n",
    "|            |            |------------ ...\n",
    "```\n"
   ]
  },
  {
   "cell_type": "code",
   "execution_count": 3,
   "id": "efbf56b1ff86f423",
   "metadata": {
    "ExecuteTime": {
     "end_time": "2024-04-16T19:24:42.007550Z",
     "start_time": "2024-04-16T19:24:40.728782Z"
    },
    "collapsed": false,
    "jupyter": {
     "outputs_hidden": false
    },
    "pycharm": {
     "name": "#%%\n"
    }
   },
   "outputs": [
    {
     "name": "stderr",
     "output_type": "stream",
     "text": [
      "/Users/behzadhaki/Github/GrooveTransformer/GrooveTransformerVenv/lib/python3.9/site-packages/pydub/utils.py:170: RuntimeWarning: Couldn't find ffmpeg or avconv - defaulting to ffmpeg, but may not work\n",
      "  warn(\"Couldn't find ffmpeg or avconv - defaulting to ffmpeg, but may not work\", RuntimeWarning)\n"
     ]
    },
    {
     "data": {
      "text/plain": [
       "ElBongoseroCollection with 3286 users, total of 6640 attempts"
      ]
     },
     "execution_count": 3,
     "metadata": {},
     "output_type": "execute_result"
    }
   ],
   "source": [
    "from API import ElBongoseroCollection\n",
    "\n",
    "collection = ElBongoseroCollection('SavedSessions/SavedSessions')\n",
    "collection\n"
   ]
  },
  {
   "cell_type": "markdown",
   "id": "3ded58d75b987c20",
   "metadata": {
    "pycharm": {
     "name": "#%% md\n"
    }
   },
   "source": [
    "# Subsetting\n",
    "\n",
    "You can Subset using the following methods, the returned subset will also be of type `ElBongoseroCollection`\n",
    "\n",
    "Also, subsetters can be cascaded one after the other\n",
    "\n",
    "Available subsetters:\n",
    "- `filter_by_assessment_duration_minimumm(min_duration)` --> the amount user thought about rating their performance\n",
    "- `filter_by_attempt_duration_minimum(min_duration)` --> the amount of time the user spent on the attempt\n",
    "- `filter_by_self_assessment_within_range(min_rating, max_rating)` --> the user's self assessment of their performance\n",
    "- `filter_by_tempo_range(min_tempo, max_tempo)` --> the tempo of the drum loop\n",
    "-  `filter_by_total_bongo_hits_within_range(min_hits, max_hits)` --> the total number of bongo hits in the loop (use to get rid of empty loops)\n",
    "- `filter_by_style(style)` --> the style of the drum loop\n",
    "- `filter_by_user_level_of_musical_experience(min_, max_)` --> the user's level of musical experience\n",
    "- `filter_by_user_exhibion_rating(min_, max_)` --> the user's rating of their experience with the installation\n",
    "- "
   ]
  },
  {
   "cell_type": "code",
   "execution_count": 4,
   "id": "12bc2372-b2fa-4f46-b375-88c1bdf7c422",
   "metadata": {
    "ExecuteTime": {
     "end_time": "2024-04-16T19:24:43.020073Z",
     "start_time": "2024-04-16T19:24:42.008187Z"
    },
    "pycharm": {
     "name": "#%%\n"
    }
   },
   "outputs": [
    {
     "data": {
      "text/plain": [
       "{'attempt_duration': 9.0, 'self_assessment': 1, 'assessment_time': 12.0, 'attempt_tempo': 122.0, 'drum_path': 'DrumMidis/Afrocuban/p0000003354__m001__beat__afrocuban__066---068.mid', 'metadata_json': 'SavedSessions/SavedSessions/session_00003119--2023-11-29--14-11-34/Part2_BongosAlonWithDrums/attempt_001/groove_metadata.json', 'genre': 'Afrocuban', 'user_level_of_musical_experience': 5, 'user_exhibion_rating': 5}"
      ]
     },
     "execution_count": 4,
     "metadata": {},
     "output_type": "execute_result"
    }
   ],
   "source": [
    "collection[0][0]"
   ]
  },
  {
   "cell_type": "code",
   "execution_count": 5,
   "id": "bc0dad91-a32f-4b0d-9aae-8cf19e965ce8",
   "metadata": {
    "ExecuteTime": {
     "end_time": "2024-04-16T19:24:43.020073Z",
     "start_time": "2024-04-16T19:24:42.008187Z"
    },
    "pycharm": {
     "name": "#%%\n"
    }
   },
   "outputs": [
    {
     "data": {
      "text/plain": [
       "ElBongoseroCollection with 106 users, total of 111 attempts"
      ]
     },
     "execution_count": 5,
     "metadata": {},
     "output_type": "execute_result"
    }
   ],
   "source": [
    "# available styles\n",
    "styles = collection.get_all_styles()\n",
    "\n",
    "subset = collection.filter_by_style('Rock').filter_by_user_level_of_musical_experience(1, 1)\n",
    "\n",
    "subset"
   ]
  },
  {
   "cell_type": "code",
   "execution_count": null,
   "id": "312b2c67-1dfe-4786-89b2-5efe337f7cc7",
   "metadata": {
    "ExecuteTime": {
     "end_time": "2024-04-16T19:24:43.020073Z",
     "start_time": "2024-04-16T19:24:42.008187Z"
    },
    "pycharm": {
     "name": "#%%\n"
    }
   },
   "outputs": [],
   "source": []
  },
  {
   "cell_type": "code",
   "execution_count": null,
   "outputs": [],
   "source": [
    "# Create source drums mapping\n",
    "\n",
    "source_drums = []\n",
    "for user_data in collection:\n",
    "    for attempt_data in user_data.attempts:\n",
    "        source_drums.append(attempt_data.drum_path)\n",
    "        attempt_data\n",
    "source_drums = sorted(list(set(source_drums)))\n",
    "\n",
    "source_drums_per_style = {}\n",
    "for i, drum in enumerate(source_drums):\n",
    "    style = drum.split('/')[1]\n",
    "    if style not in source_drums_per_style:\n",
    "        source_drums_per_style[style] = {}\n",
    "    n_drums_so_far = len(list(source_drums_per_style[style].keys()))\n",
    "    source_drums_per_style[style][drum] = f'source_{n_drums_so_far}'\n",
    "\n",
    "# source_drums_mapping = {}\n",
    "# for i, drum in enumerate(source_drums):\n",
    "#     style = drum.split('/')[1]\n",
    "#     source_drums_mapping[drum] = (f'source_{i}', style)\n",
    "    \n",
    "source_drums_per_style['Afrocuban'][collection[0][0].drum_path]\n",
    "source_drums_per_style"
   ],
   "metadata": {
    "collapsed": false,
    "pycharm": {
     "name": "#%%\n"
    }
   }
  },
  {
   "cell_type": "code",
   "execution_count": null,
   "outputs": [],
   "source": [
    "# # put all source drums\n",
    "# for style in styles:\n",
    "#     subset_style = collection.filter_by_style(style)\n",
    "#     for experience in range(1, 6):\n",
    "#         subset = subset_style.filter_by_user_level_of_musical_experience(experience, experience)\n",
    "#         cnt = 0\n",
    "#         for i, user_data in enumerate(subset):\n",
    "#             for j, attempt_data in enumerate(user_data.attempts):\n",
    "#                 try:\n",
    "#                     cnt += 1\n",
    "#                     # hvo_seq_drum = attempt_data.load_source_drum_hvo_seq()\n",
    "#                     # hvo_seq_drum.save_hvo_to_midi(f\"midi_organized_by_experience/{style}/experience_{experience-1}/{cnt}/drum.mid\")\n",
    "#                     hvo_seq_bongo = attempt_data.load_bongo_loop_hvo_seq()\n",
    "#                     hvo_seq_bongo.save_hvo_to_midi(f\"midi_organized_by_experience/{style}/experience_{experience-1}/{cnt}/bongo.mid\")\n",
    "#                     hvo_seq_drum_and_bongo = attempt_data.load_drums_with_bongos_hvo_sequence()\n",
    "#                     hvo_seq_drum_and_bongo.save_hvo_to_midi(f\"midi_organized_by_experience/{style}/experience_{experience-1}/{cnt}/drum_and_bongo.mid\")\n",
    "#                 except Exception as e:\n",
    "#                     print(e)\n",
    "#                     continue"
   ],
   "metadata": {
    "collapsed": false,
    "pycharm": {
     "name": "#%%\n"
    }
   }
  },
  {
   "cell_type": "code",
   "execution_count": null,
   "outputs": [],
   "source": [
    "# for style in styles:\n",
    "#     subset_style = collection.filter_by_style(style)\n",
    "#     for experience in range(1, 6):\n",
    "#         subset = subset_style.filter_by_user_level_of_musical_experience(experience, experience)\n",
    "#         cnt = 0\n",
    "#         for i, user_data in enumerate(subset):\n",
    "#             for j, attempt_data in enumerate(user_data.attempts):\n",
    "#                 try:\n",
    "#                     cnt += 1\n",
    "#                     drum_name, style = source_drums_mapping[attempt_data.drum_path]\n",
    "#                     hvo_seq_drum = attempt_data.load_source_drum_hvo_seq()\n",
    "#                     # hvo_seq_drum.save_hvo_to_midi(f\"midi_organized_by_source_drums/{drum_name}/{style}/experience_{experience-1}/{cnt}/drum.mid\")\n",
    "#                     hvo_seq_drum.save_hvo_to_midi(f\"midi_organized_by_source_drums/{style}/{drum_name}/drum.mid\")\n",
    "                    \n",
    "#                 except Exception as e:\n",
    "#                     print(e)\n",
    "#                     continue\n",
    "    "
   ],
   "metadata": {
    "collapsed": false,
    "pycharm": {
     "name": "#%%\n"
    }
   }
  },
  {
   "cell_type": "code",
   "execution_count": null,
   "outputs": [],
   "source": [
    "import glob\n",
    "import tqdm\n",
    "\n",
    "for style in tqdm.tqdm(styles):\n",
    "    subset_style = collection.filter_by_style(style)\n",
    "    for experience in range(1, 6):\n",
    "        subset = subset_style.filter_by_user_level_of_musical_experience(experience, experience)\n",
    "        cnt = 0\n",
    "        for i, user_data in enumerate(subset):\n",
    "            for j, attempt_data in enumerate(user_data.attempts):\n",
    "                try:\n",
    "                    cnt += 1\n",
    "                    drum_path = attempt_data.drum_path\n",
    "                    style = drum_path.split('/')[1]\n",
    "                    \n",
    "                    drum_name = source_drums_per_style[style][attempt_data.drum_path]\n",
    "\n",
    "                    hvo_seq_drum = attempt_data.load_source_drum_hvo_seq()\n",
    "                    hvo_seq_drum.save_hvo_to_midi(os.path.join(f\"midi_organized_by_source_drums/{style}/{drum_name}/drum.mid\"))\n",
    "\n",
    "                    path_ = f\"midi_organized_by_source_drums/{style}/{drum_name}/experience_{experience-1}/\"\n",
    "                    attempt_cnt_so_far = len(glob.glob(os.path.join(path_, '*.mid'))) // 2\n",
    "                    \n",
    "                    hvo_seq_bongo = attempt_data.load_bongo_loop_hvo_seq()\n",
    "                    hvo_seq_bongo.save_hvo_to_midi(os.path.join(path_, f\"bongo_{attempt_cnt_so_far}.mid\"))\n",
    "                    hvo_seq_drum_and_bongo = attempt_data.load_drums_with_bongos_hvo_sequence()\n",
    "                    hvo_seq_drum_and_bongo.save_hvo_to_midi(os.path.join(path_, f\"bongo_and_drum_{attempt_cnt_so_far}.mid\"))\n",
    "                except Exception as e:\n",
    "                    print(e)\n",
    "                    continue\n",
    "    "
   ],
   "metadata": {
    "collapsed": false,
    "pycharm": {
     "name": "#%%\n"
    }
   }
  },
  {
   "cell_type": "code",
   "execution_count": null,
   "id": "da601f98-0ff5-4a9c-b4fb-d14c1783997b",
   "metadata": {},
   "outputs": [],
   "source": []
  }
 ],
 "metadata": {
  "kernelspec": {
   "display_name": "GrooveTransformerVenv",
   "language": "python",
   "name": "groovetransformervenv"
  },
  "language_info": {
   "codemirror_mode": {
    "name": "ipython",
    "version": 3
   },
   "file_extension": ".py",
   "mimetype": "text/x-python",
   "name": "python",
   "nbconvert_exporter": "python",
   "pygments_lexer": "ipython3",
   "version": "3.9.12"
  }
 },
 "nbformat": 4,
 "nbformat_minor": 5
}